{
 "cells": [
  {
   "cell_type": "markdown",
   "metadata": {},
   "source": [
    "# Numpy basic\n",
    "## Overview\n",
    "- numpyオンライン試験で\n",
    "\n",
    "## Sample"
   ]
  },
  {
   "cell_type": "markdown",
   "metadata": {},
   "source": [
    "### create ndarray"
   ]
  },
  {
   "cell_type": "code",
   "execution_count": 8,
   "metadata": {},
   "outputs": [
    {
     "data": {
      "text/plain": [
       "array([5, 8, 3, 4, 2, 0, 8, 3, 7, 0, 4, 0, 0, 2, 5, 7])"
      ]
     },
     "execution_count": 8,
     "metadata": {},
     "output_type": "execute_result"
    }
   ],
   "source": [
    "import numpy as np\n",
    "ary = np.array([5, 8, 3, 4, 2, 0, 8, 3, 7, 0, 4, 0, 0, 2, 5, 7])\n",
    "ary"
   ]
  },
  {
   "cell_type": "code",
   "execution_count": 9,
   "metadata": {},
   "outputs": [
    {
     "data": {
      "text/plain": [
       "['T',\n",
       " '__abs__',\n",
       " '__add__',\n",
       " '__and__',\n",
       " '__array__',\n",
       " '__array_finalize__',\n",
       " '__array_interface__',\n",
       " '__array_prepare__',\n",
       " '__array_priority__',\n",
       " '__array_struct__',\n",
       " '__array_ufunc__',\n",
       " '__array_wrap__',\n",
       " '__bool__',\n",
       " '__class__',\n",
       " '__complex__',\n",
       " '__contains__',\n",
       " '__copy__',\n",
       " '__deepcopy__',\n",
       " '__delattr__',\n",
       " '__delitem__',\n",
       " '__dir__',\n",
       " '__divmod__',\n",
       " '__doc__',\n",
       " '__eq__',\n",
       " '__float__',\n",
       " '__floordiv__',\n",
       " '__format__',\n",
       " '__ge__',\n",
       " '__getattribute__',\n",
       " '__getitem__',\n",
       " '__gt__',\n",
       " '__hash__',\n",
       " '__iadd__',\n",
       " '__iand__',\n",
       " '__ifloordiv__',\n",
       " '__ilshift__',\n",
       " '__imatmul__',\n",
       " '__imod__',\n",
       " '__imul__',\n",
       " '__index__',\n",
       " '__init__',\n",
       " '__init_subclass__',\n",
       " '__int__',\n",
       " '__invert__',\n",
       " '__ior__',\n",
       " '__ipow__',\n",
       " '__irshift__',\n",
       " '__isub__',\n",
       " '__iter__',\n",
       " '__itruediv__',\n",
       " '__ixor__',\n",
       " '__le__',\n",
       " '__len__',\n",
       " '__lshift__',\n",
       " '__lt__',\n",
       " '__matmul__',\n",
       " '__mod__',\n",
       " '__mul__',\n",
       " '__ne__',\n",
       " '__neg__',\n",
       " '__new__',\n",
       " '__or__',\n",
       " '__pos__',\n",
       " '__pow__',\n",
       " '__radd__',\n",
       " '__rand__',\n",
       " '__rdivmod__',\n",
       " '__reduce__',\n",
       " '__reduce_ex__',\n",
       " '__repr__',\n",
       " '__rfloordiv__',\n",
       " '__rlshift__',\n",
       " '__rmatmul__',\n",
       " '__rmod__',\n",
       " '__rmul__',\n",
       " '__ror__',\n",
       " '__rpow__',\n",
       " '__rrshift__',\n",
       " '__rshift__',\n",
       " '__rsub__',\n",
       " '__rtruediv__',\n",
       " '__rxor__',\n",
       " '__setattr__',\n",
       " '__setitem__',\n",
       " '__setstate__',\n",
       " '__sizeof__',\n",
       " '__str__',\n",
       " '__sub__',\n",
       " '__subclasshook__',\n",
       " '__truediv__',\n",
       " '__xor__',\n",
       " 'all',\n",
       " 'any',\n",
       " 'argmax',\n",
       " 'argmin',\n",
       " 'argpartition',\n",
       " 'argsort',\n",
       " 'astype',\n",
       " 'base',\n",
       " 'byteswap',\n",
       " 'choose',\n",
       " 'clip',\n",
       " 'compress',\n",
       " 'conj',\n",
       " 'conjugate',\n",
       " 'copy',\n",
       " 'ctypes',\n",
       " 'cumprod',\n",
       " 'cumsum',\n",
       " 'data',\n",
       " 'diagonal',\n",
       " 'dot',\n",
       " 'dtype',\n",
       " 'dump',\n",
       " 'dumps',\n",
       " 'fill',\n",
       " 'flags',\n",
       " 'flat',\n",
       " 'flatten',\n",
       " 'getfield',\n",
       " 'imag',\n",
       " 'item',\n",
       " 'itemset',\n",
       " 'itemsize',\n",
       " 'max',\n",
       " 'mean',\n",
       " 'min',\n",
       " 'nbytes',\n",
       " 'ndim',\n",
       " 'newbyteorder',\n",
       " 'nonzero',\n",
       " 'partition',\n",
       " 'prod',\n",
       " 'ptp',\n",
       " 'put',\n",
       " 'ravel',\n",
       " 'real',\n",
       " 'repeat',\n",
       " 'reshape',\n",
       " 'resize',\n",
       " 'round',\n",
       " 'searchsorted',\n",
       " 'setfield',\n",
       " 'setflags',\n",
       " 'shape',\n",
       " 'size',\n",
       " 'sort',\n",
       " 'squeeze',\n",
       " 'std',\n",
       " 'strides',\n",
       " 'sum',\n",
       " 'swapaxes',\n",
       " 'take',\n",
       " 'tobytes',\n",
       " 'tofile',\n",
       " 'tolist',\n",
       " 'tostring',\n",
       " 'trace',\n",
       " 'transpose',\n",
       " 'var',\n",
       " 'view']"
      ]
     },
     "execution_count": 9,
     "metadata": {},
     "output_type": "execute_result"
    }
   ],
   "source": [
    "dir(ary)"
   ]
  },
  {
   "cell_type": "code",
   "execution_count": 10,
   "metadata": {},
   "outputs": [
    {
     "name": "stdout",
     "output_type": "stream",
     "text": [
      "[5 8 3 4 2 0 8 3 7 0 4 0 0 2 5 7]\n"
     ]
    }
   ],
   "source": [
    "print(ary)"
   ]
  },
  {
   "cell_type": "code",
   "execution_count": 11,
   "metadata": {},
   "outputs": [],
   "source": [
    "ary?"
   ]
  },
  {
   "cell_type": "markdown",
   "metadata": {},
   "source": [
    "Type:            ndarray\n",
    "String form:     [5 8 3 4 2 0 8 3 7 0 4 0 0 2 5 7]\n",
    "Length:          16\n",
    "File:            g:\\users\\sakai\\anaconda3\\envs\\jup\\lib\\site-packages\\numpy\\__init__.py\n",
    "Docstring:       <no docstring>\n",
    "Class docstring:\n",
    "ndarray(shape, dtype=float, buffer=None, offset=0,\n",
    "        strides=None, order=None)\n",
    "\n",
    "An array object represents a multidimensional, homogeneous array\n",
    "of fixed-size items.  An associated data-type object describes the\n",
    "format of each element in the array (its byte-order, how many bytes it\n",
    "occupies in memory, whether it is an integer, a floating point number,\n",
    "or something else, etc.)\n",
    "\n",
    "Arrays should be constructed using `array`, `zeros` or `empty` (refer\n",
    "to the See Also section below).  The parameters given here refer to\n",
    "a low-level method (`ndarray(...)`) for instantiating an array.\n",
    "\n",
    "For more information, refer to the `numpy` module and examine the\n",
    "methods and attributes of an array.\n",
    "\n",
    "Parameters\n",
    "----------\n",
    "(for the __new__ method; see Notes below)\n",
    "\n",
    "shape : tuple of ints\n",
    "    Shape of created array.\n",
    "dtype : data-type, optional\n",
    "    Any object that can be interpreted as a numpy data type.\n",
    "buffer : object exposing buffer interface, optional\n",
    "    Used to fill the array with data.\n",
    "offset : int, optional\n",
    "    Offset of array data in buffer.\n",
    "strides : tuple of ints, optional\n",
    "    Strides of data in memory.\n",
    "order : {'C', 'F'}, optional\n",
    "    Row-major (C-style) or column-major (Fortran-style) order.\n",
    "\n",
    "Attributes\n",
    "----------\n",
    "T : ndarray\n",
    "    Transpose of the array.\n",
    "data : buffer\n",
    "    The array's elements, in memory.\n",
    "dtype : dtype object\n",
    "    Describes the format of the elements in the array.\n",
    "flags : dict\n",
    "    Dictionary containing information related to memory use, e.g.,\n",
    "    'C_CONTIGUOUS', 'OWNDATA', 'WRITEABLE', etc.\n",
    "flat : numpy.flatiter object\n",
    "    Flattened version of the array as an iterator.  The iterator\n",
    "    allows assignments, e.g., ``x.flat = 3`` (See `ndarray.flat` for\n",
    "    assignment examples; TODO).\n",
    "imag : ndarray\n",
    "    Imaginary part of the array.\n",
    "real : ndarray\n",
    "    Real part of the array.\n",
    "size : int\n",
    "    Number of elements in the array.\n",
    "itemsize : int\n",
    "    The memory use of each array element in bytes.\n",
    "nbytes : int\n",
    "    The total number of bytes required to store the array data,\n",
    "    i.e., ``itemsize * size``.\n",
    "ndim : int\n",
    "    The array's number of dimensions.\n",
    "shape : tuple of ints\n",
    "    Shape of the array.\n",
    "strides : tuple of ints\n",
    "    The step-size required to move from one element to the next in\n",
    "    memory. For example, a contiguous ``(3, 4)`` array of type\n",
    "    ``int16`` in C-order has strides ``(8, 2)``.  This implies that\n",
    "    to move from element to element in memory requires jumps of 2 bytes.\n",
    "    To move from row-to-row, one needs to jump 8 bytes at a time\n",
    "    (``2 * 4``).\n",
    "ctypes : ctypes object\n",
    "    Class containing properties of the array needed for interaction\n",
    "    with ctypes.\n",
    "base : ndarray\n",
    "    If the array is a view into another array, that array is its `base`\n",
    "    (unless that array is also a view).  The `base` array is where the\n",
    "    array data is actually stored.\n",
    "\n",
    "See Also\n",
    "--------\n",
    "array : Construct an array.\n",
    "zeros : Create an array, each element of which is zero.\n",
    "empty : Create an array, but leave its allocated memory unchanged (i.e.,\n",
    "        it contains \"garbage\").\n",
    "dtype : Create a data-type.\n",
    "\n",
    "Notes\n",
    "-----\n",
    "There are two modes of creating an array using ``__new__``:\n",
    "\n",
    "1. If `buffer` is None, then only `shape`, `dtype`, and `order`\n",
    "   are used.\n",
    "2. If `buffer` is an object exposing the buffer interface, then\n",
    "   all keywords are interpreted.\n",
    "\n",
    "No ``__init__`` method is needed because the array is fully initialized\n",
    "after the ``__new__`` method.\n",
    "\n",
    "Examples\n",
    "--------\n",
    "These examples illustrate the low-level `ndarray` constructor.  Refer\n",
    "to the `See Also` section above for easier ways of constructing an\n",
    "ndarray.\n",
    "\n",
    "First mode, `buffer` is None:\n",
    "\n",
    ">>> np.ndarray(shape=(2,2), dtype=float, order='F')\n",
    "array([[ -1.13698227e+002,   4.25087011e-303],\n",
    "       [  2.88528414e-306,   3.27025015e-309]])         #random\n",
    "\n",
    "Second mode:\n",
    "\n",
    ">>> np.ndarray((2,), buffer=np.array([1,2,3]),\n",
    "...            offset=np.int_().itemsize,\n",
    "...            dtype=int) # offset = 1*itemsize, i.e. skip first element\n",
    "array([2, 3])"
   ]
  },
  {
   "cell_type": "markdown",
   "metadata": {},
   "source": [
    "### ndaary.reshape((n,m))"
   ]
  },
  {
   "cell_type": "code",
   "execution_count": 12,
   "metadata": {},
   "outputs": [
    {
     "data": {
      "text/plain": [
       "array([[5, 8, 3, 4],\n",
       "       [2, 0, 8, 3],\n",
       "       [7, 0, 4, 0],\n",
       "       [0, 2, 5, 7]])"
      ]
     },
     "execution_count": 12,
     "metadata": {},
     "output_type": "execute_result"
    }
   ],
   "source": [
    "def test1(A):\n",
    "    retary = A.reshape((4,4))\n",
    "    return retary\n",
    "\n",
    "ary1 = test1(ary)\n",
    "ary1"
   ]
  },
  {
   "cell_type": "code",
   "execution_count": 13,
   "metadata": {},
   "outputs": [
    {
     "data": {
      "text/plain": [
       "(16,)"
      ]
     },
     "execution_count": 13,
     "metadata": {},
     "output_type": "execute_result"
    }
   ],
   "source": [
    "ary.shape"
   ]
  },
  {
   "cell_type": "code",
   "execution_count": 14,
   "metadata": {},
   "outputs": [
    {
     "data": {
      "text/plain": [
       "(4, 4)"
      ]
     },
     "execution_count": 14,
     "metadata": {},
     "output_type": "execute_result"
    }
   ],
   "source": [
    "ary1.shape"
   ]
  },
  {
   "cell_type": "markdown",
   "metadata": {},
   "source": [
    "### ndaary.flatten()\n"
   ]
  },
  {
   "cell_type": "code",
   "execution_count": 15,
   "metadata": {},
   "outputs": [
    {
     "data": {
      "text/plain": [
       "array([3, 1, 3, 8, 0, 5, 1, 2, 6, 5, 5, 3])"
      ]
     },
     "execution_count": 15,
     "metadata": {},
     "output_type": "execute_result"
    }
   ],
   "source": [
    "def test2(A):\n",
    "    retary = A.flatten()\n",
    "    return retary\n",
    "\n",
    "ary = np.array([[3, 1, 3, 8],\n",
    "   [0, 5, 1, 2],\n",
    "   [6, 5, 5, 3]])\n",
    "ary2 = test2(ary)\n",
    "ary2"
   ]
  },
  {
   "cell_type": "code",
   "execution_count": 29,
   "metadata": {},
   "outputs": [
    {
     "data": {
      "text/plain": [
       "array([3, 1, 3, 8, 0, 5, 1, 2, 6, 5, 5, 3])"
      ]
     },
     "execution_count": 29,
     "metadata": {},
     "output_type": "execute_result"
    }
   ],
   "source": [
    "ary_s = ary.ravel() \n",
    "ary_s"
   ]
  },
  {
   "cell_type": "markdown",
   "metadata": {},
   "source": [
    "### slicing"
   ]
  },
  {
   "cell_type": "code",
   "execution_count": 25,
   "metadata": {},
   "outputs": [
    {
     "data": {
      "text/plain": [
       "array([[3, 1, 3, 8],\n",
       "       [0, 5, 1, 2],\n",
       "       [6, 5, 5, 3]])"
      ]
     },
     "execution_count": 25,
     "metadata": {},
     "output_type": "execute_result"
    }
   ],
   "source": [
    "ary"
   ]
  },
  {
   "cell_type": "code",
   "execution_count": 22,
   "metadata": {},
   "outputs": [
    {
     "data": {
      "text/plain": [
       "array([3, 1, 3, 8])"
      ]
     },
     "execution_count": 22,
     "metadata": {},
     "output_type": "execute_result"
    }
   ],
   "source": [
    "ary[0]"
   ]
  },
  {
   "cell_type": "code",
   "execution_count": 23,
   "metadata": {},
   "outputs": [
    {
     "data": {
      "text/plain": [
       "array([3, 1, 3, 8])"
      ]
     },
     "execution_count": 23,
     "metadata": {},
     "output_type": "execute_result"
    }
   ],
   "source": [
    "ary[0,:]"
   ]
  },
  {
   "cell_type": "code",
   "execution_count": 26,
   "metadata": {},
   "outputs": [
    {
     "data": {
      "text/plain": [
       "array([[0, 5, 1, 2],\n",
       "       [6, 5, 5, 3]])"
      ]
     },
     "execution_count": 26,
     "metadata": {},
     "output_type": "execute_result"
    }
   ],
   "source": [
    "ary[1:,:]"
   ]
  },
  {
   "cell_type": "code",
   "execution_count": 28,
   "metadata": {},
   "outputs": [
    {
     "data": {
      "text/plain": [
       "array([[5, 1]])"
      ]
     },
     "execution_count": 28,
     "metadata": {},
     "output_type": "execute_result"
    }
   ],
   "source": [
    "ary[1:2,1:3]"
   ]
  },
  {
   "cell_type": "code",
   "execution_count": 31,
   "metadata": {},
   "outputs": [
    {
     "data": {
      "text/plain": [
       "array([[3, 8, 3, 7, 6, 6],\n",
       "       [2, 0, 5, 7, 4, 4],\n",
       "       [7, 6, 7, 2, 8, 4]])"
      ]
     },
     "execution_count": 31,
     "metadata": {},
     "output_type": "execute_result"
    }
   ],
   "source": [
    "def test3(A):\n",
    "    retary = A[2:]\n",
    "    return retary\n",
    "\n",
    "ary = np.array([[7, 6, 6, 0, 8, 3],\n",
    "   [5, 6, 7, 0, 1, 8],\n",
    "   [3, 8, 3, 7, 6, 6],\n",
    "   [2, 0, 5, 7, 4, 4],\n",
    "   [7, 6, 7, 2, 8, 4]])\n",
    "\n",
    "ary3 = test3(ary)\n",
    "ary3"
   ]
  },
  {
   "cell_type": "markdown",
   "metadata": {},
   "source": [
    "### np.arange() / np.ramdom"
   ]
  },
  {
   "cell_type": "code",
   "execution_count": 34,
   "metadata": {},
   "outputs": [
    {
     "name": "stdout",
     "output_type": "stream",
     "text": [
      "ALLOW_THREADS\n",
      "AxisError\n",
      "BUFSIZE\n",
      "CLIP\n",
      "ComplexWarning\n",
      "DataSource\n",
      "ERR_CALL\n",
      "ERR_DEFAULT\n",
      "ERR_IGNORE\n",
      "ERR_LOG\n",
      "ERR_PRINT\n",
      "ERR_RAISE\n",
      "ERR_WARN\n",
      "FLOATING_POINT_SUPPORT\n",
      "FPE_DIVIDEBYZERO\n",
      "FPE_INVALID\n",
      "FPE_OVERFLOW\n",
      "FPE_UNDERFLOW\n",
      "False_\n",
      "Inf\n",
      "Infinity\n",
      "MAXDIMS\n",
      "MAY_SHARE_BOUNDS\n",
      "MAY_SHARE_EXACT\n",
      "MachAr\n",
      "ModuleDeprecationWarning\n",
      "NAN\n",
      "NINF\n",
      "NZERO\n",
      "NaN\n",
      "PINF\n",
      "PZERO\n",
      "PackageLoader\n",
      "RAISE\n",
      "RankWarning\n",
      "SHIFT_DIVIDEBYZERO\n",
      "SHIFT_INVALID\n",
      "SHIFT_OVERFLOW\n",
      "SHIFT_UNDERFLOW\n",
      "ScalarType\n",
      "Tester\n",
      "TooHardError\n",
      "True_\n",
      "UFUNC_BUFSIZE_DEFAULT\n",
      "UFUNC_PYVALS_NAME\n",
      "VisibleDeprecationWarning\n",
      "WRAP\n",
      "_NoValue\n",
      "_distributor_init\n",
      "_globals\n",
      "_import_tools\n",
      "_mat\n",
      "abs\n",
      "absolute\n",
      "absolute_import\n",
      "add\n",
      "add_docstring\n",
      "add_newdoc\n",
      "add_newdoc_ufunc\n",
      "add_newdocs\n",
      "alen\n",
      "all\n",
      "allclose\n",
      "alltrue\n",
      "amax\n",
      "amin\n",
      "angle\n",
      "any\n",
      "append\n",
      "apply_along_axis\n",
      "apply_over_axes\n",
      "arange\n",
      "arccos\n",
      "arccosh\n",
      "arcsin\n",
      "arcsinh\n",
      "arctan\n",
      "arctan2\n",
      "arctanh\n",
      "argmax\n",
      "argmin\n",
      "argpartition\n",
      "argsort\n",
      "argwhere\n",
      "around\n",
      "array\n",
      "array2string\n",
      "array_equal\n",
      "array_equiv\n",
      "array_repr\n",
      "array_split\n",
      "array_str\n",
      "asanyarray\n",
      "asarray\n",
      "asarray_chkfinite\n",
      "ascontiguousarray\n",
      "asfarray\n",
      "asfortranarray\n",
      "asmatrix\n",
      "asscalar\n",
      "atleast_1d\n",
      "atleast_2d\n",
      "atleast_3d\n",
      "average\n",
      "bartlett\n",
      "base_repr\n",
      "binary_repr\n",
      "bincount\n",
      "bitwise_and\n",
      "bitwise_not\n",
      "bitwise_or\n",
      "bitwise_xor\n",
      "blackman\n",
      "block\n",
      "bmat\n",
      "bool\n",
      "bool8\n",
      "bool_\n",
      "broadcast\n",
      "broadcast_arrays\n",
      "broadcast_to\n",
      "busday_count\n",
      "busday_offset\n",
      "busdaycalendar\n",
      "byte\n",
      "byte_bounds\n",
      "bytes0\n",
      "bytes_\n",
      "c_\n",
      "can_cast\n",
      "cast\n",
      "cbrt\n",
      "cdouble\n",
      "ceil\n",
      "cfloat\n",
      "char\n",
      "character\n",
      "chararray\n",
      "choose\n",
      "clip\n",
      "clongdouble\n",
      "clongfloat\n",
      "column_stack\n",
      "common_type\n",
      "compare_chararrays\n",
      "compat\n",
      "complex\n",
      "complex128\n",
      "complex64\n",
      "complex_\n",
      "complexfloating\n",
      "compress\n",
      "concatenate\n",
      "conj\n",
      "conjugate\n",
      "convolve\n",
      "copy\n",
      "copysign\n",
      "copyto\n",
      "core\n",
      "corrcoef\n",
      "correlate\n",
      "cos\n",
      "cosh\n",
      "count_nonzero\n",
      "cov\n",
      "cross\n",
      "csingle\n",
      "ctypeslib\n",
      "cumprod\n",
      "cumproduct\n",
      "cumsum\n",
      "datetime64\n",
      "datetime_as_string\n",
      "datetime_data\n",
      "deg2rad\n",
      "degrees\n",
      "delete\n",
      "deprecate\n",
      "deprecate_with_doc\n",
      "diag\n",
      "diag_indices\n",
      "diag_indices_from\n",
      "diagflat\n",
      "diagonal\n",
      "diff\n",
      "digitize\n",
      "disp\n",
      "divide\n",
      "division\n",
      "divmod\n",
      "dot\n",
      "double\n",
      "dsplit\n",
      "dstack\n",
      "dtype\n",
      "e\n",
      "ediff1d\n",
      "einsum\n",
      "einsum_path\n",
      "emath\n",
      "empty\n",
      "empty_like\n",
      "equal\n",
      "errstate\n",
      "euler_gamma\n",
      "exp\n",
      "exp2\n",
      "expand_dims\n",
      "expm1\n",
      "extract\n",
      "eye\n",
      "fabs\n",
      "fastCopyAndTranspose\n",
      "fft\n",
      "fill_diagonal\n",
      "find_common_type\n",
      "finfo\n",
      "fix\n",
      "flatiter\n",
      "flatnonzero\n",
      "flexible\n",
      "flip\n",
      "fliplr\n",
      "flipud\n",
      "float\n",
      "float16\n",
      "float32\n",
      "float64\n",
      "float_\n",
      "float_power\n",
      "floating\n",
      "floor\n",
      "floor_divide\n",
      "fmax\n",
      "fmin\n",
      "fmod\n",
      "format_float_positional\n",
      "format_float_scientific\n",
      "format_parser\n",
      "frexp\n",
      "frombuffer\n",
      "fromfile\n",
      "fromfunction\n",
      "fromiter\n",
      "frompyfunc\n",
      "fromregex\n",
      "fromstring\n",
      "full\n",
      "full_like\n",
      "fv\n",
      "gcd\n",
      "generic\n",
      "genfromtxt\n",
      "geomspace\n",
      "get_array_wrap\n",
      "get_include\n",
      "get_printoptions\n",
      "getbufsize\n",
      "geterr\n",
      "geterrcall\n",
      "geterrobj\n",
      "gradient\n",
      "greater\n",
      "greater_equal\n",
      "half\n",
      "hamming\n",
      "hanning\n",
      "heaviside\n",
      "histogram\n",
      "histogram2d\n",
      "histogram_bin_edges\n",
      "histogramdd\n",
      "hsplit\n",
      "hstack\n",
      "hypot\n",
      "i0\n",
      "identity\n",
      "iinfo\n",
      "imag\n",
      "in1d\n",
      "index_exp\n",
      "indices\n",
      "inexact\n",
      "inf\n",
      "info\n",
      "infty\n",
      "inner\n",
      "insert\n",
      "int\n",
      "int0\n",
      "int16\n",
      "int32\n",
      "int64\n",
      "int8\n",
      "int_\n",
      "int_asbuffer\n",
      "intc\n",
      "integer\n",
      "interp\n",
      "intersect1d\n",
      "intp\n",
      "invert\n",
      "ipmt\n",
      "irr\n",
      "is_busday\n",
      "isclose\n",
      "iscomplex\n",
      "iscomplexobj\n",
      "isfinite\n",
      "isfortran\n",
      "isin\n",
      "isinf\n",
      "isnan\n",
      "isnat\n",
      "isneginf\n",
      "isposinf\n",
      "isreal\n",
      "isrealobj\n",
      "isscalar\n",
      "issctype\n",
      "issubclass_\n",
      "issubdtype\n",
      "issubsctype\n",
      "iterable\n",
      "ix_\n",
      "kaiser\n",
      "kron\n",
      "lcm\n",
      "ldexp\n",
      "left_shift\n",
      "less\n",
      "less_equal\n",
      "lexsort\n",
      "lib\n",
      "linalg\n",
      "linspace\n",
      "little_endian\n",
      "load\n",
      "loads\n",
      "loadtxt\n",
      "log\n",
      "log10\n",
      "log1p\n",
      "log2\n",
      "logaddexp\n",
      "logaddexp2\n",
      "logical_and\n",
      "logical_not\n",
      "logical_or\n",
      "logical_xor\n",
      "logspace\n",
      "long\n",
      "longcomplex\n",
      "longdouble\n",
      "longfloat\n",
      "longlong\n",
      "lookfor\n",
      "ma\n",
      "mafromtxt\n",
      "mask_indices\n",
      "mat\n",
      "math\n",
      "matmul\n",
      "matrix\n",
      "matrixlib\n",
      "max\n",
      "maximum\n",
      "maximum_sctype\n",
      "may_share_memory\n",
      "mean\n",
      "median\n",
      "memmap\n",
      "meshgrid\n",
      "mgrid\n",
      "min\n",
      "min_scalar_type\n",
      "minimum\n",
      "mintypecode\n",
      "mirr\n",
      "mod\n",
      "modf\n",
      "moveaxis\n",
      "msort\n",
      "multiply\n",
      "nan\n",
      "nan_to_num\n",
      "nanargmax\n",
      "nanargmin\n",
      "nancumprod\n",
      "nancumsum\n",
      "nanmax\n",
      "nanmean\n",
      "nanmedian\n",
      "nanmin\n",
      "nanpercentile\n",
      "nanprod\n",
      "nanquantile\n",
      "nanstd\n",
      "nansum\n",
      "nanvar\n",
      "nbytes\n",
      "ndarray\n",
      "ndenumerate\n",
      "ndfromtxt\n",
      "ndim\n",
      "ndindex\n",
      "nditer\n",
      "negative\n",
      "nested_iters\n",
      "newaxis\n",
      "nextafter\n",
      "nonzero\n",
      "not_equal\n",
      "nper\n",
      "npv\n",
      "numarray\n",
      "number\n",
      "obj2sctype\n",
      "object\n",
      "object0\n",
      "object_\n",
      "ogrid\n",
      "oldnumeric\n",
      "ones\n",
      "ones_like\n",
      "outer\n",
      "packbits\n",
      "pad\n",
      "partition\n",
      "percentile\n",
      "pi\n",
      "piecewise\n",
      "pkgload\n",
      "place\n",
      "pmt\n",
      "poly\n",
      "poly1d\n",
      "polyadd\n",
      "polyder\n",
      "polydiv\n",
      "polyfit\n",
      "polyint\n",
      "polymul\n",
      "polynomial\n",
      "polysub\n",
      "polyval\n",
      "positive\n",
      "power\n",
      "ppmt\n",
      "print_function\n",
      "printoptions\n",
      "prod\n",
      "product\n",
      "promote_types\n",
      "ptp\n",
      "put\n",
      "put_along_axis\n",
      "putmask\n",
      "pv\n",
      "quantile\n",
      "r_\n",
      "rad2deg\n",
      "radians\n",
      "random\n",
      "rank\n",
      "rate\n",
      "ravel\n",
      "ravel_multi_index\n",
      "real\n",
      "real_if_close\n",
      "rec\n",
      "recarray\n",
      "recfromcsv\n",
      "recfromtxt\n",
      "reciprocal\n",
      "record\n",
      "remainder\n",
      "repeat\n",
      "require\n",
      "reshape\n",
      "resize\n",
      "result_type\n",
      "right_shift\n",
      "rint\n",
      "roll\n",
      "rollaxis\n",
      "roots\n",
      "rot90\n",
      "round\n",
      "round_\n",
      "row_stack\n",
      "s_\n",
      "safe_eval\n",
      "save\n",
      "savetxt\n",
      "savez\n",
      "savez_compressed\n",
      "sctype2char\n",
      "sctypeDict\n",
      "sctypeNA\n",
      "sctypes\n",
      "searchsorted\n",
      "select\n",
      "set_numeric_ops\n",
      "set_printoptions\n",
      "set_string_function\n",
      "setbufsize\n",
      "setdiff1d\n",
      "seterr\n",
      "seterrcall\n",
      "seterrobj\n",
      "setxor1d\n",
      "shape\n",
      "shares_memory\n",
      "short\n",
      "show_config\n",
      "sign\n",
      "signbit\n",
      "signedinteger\n",
      "sin\n",
      "sinc\n",
      "single\n",
      "singlecomplex\n",
      "sinh\n",
      "size\n",
      "sometrue\n",
      "sort\n",
      "sort_complex\n",
      "source\n",
      "spacing\n",
      "split\n",
      "sqrt\n",
      "square\n",
      "squeeze\n",
      "stack\n",
      "std\n",
      "str\n",
      "str0\n",
      "str_\n",
      "string_\n",
      "subtract\n",
      "sum\n",
      "swapaxes\n",
      "sys\n",
      "take\n",
      "take_along_axis\n",
      "tan\n",
      "tanh\n",
      "tensordot\n",
      "test\n",
      "testing\n",
      "tile\n",
      "timedelta64\n",
      "trace\n",
      "tracemalloc_domain\n",
      "transpose\n",
      "trapz\n",
      "tri\n",
      "tril\n",
      "tril_indices\n",
      "tril_indices_from\n",
      "trim_zeros\n",
      "triu\n",
      "triu_indices\n",
      "triu_indices_from\n",
      "true_divide\n",
      "trunc\n",
      "typeDict\n",
      "typeNA\n",
      "typecodes\n",
      "typename\n",
      "ubyte\n",
      "ufunc\n",
      "uint\n",
      "uint0\n",
      "uint16\n",
      "uint32\n",
      "uint64\n",
      "uint8\n",
      "uintc\n",
      "uintp\n",
      "ulonglong\n",
      "unicode\n",
      "unicode_\n",
      "union1d\n",
      "unique\n",
      "unpackbits\n",
      "unravel_index\n",
      "unsignedinteger\n",
      "unwrap\n",
      "ushort\n",
      "vander\n",
      "var\n",
      "vdot\n",
      "vectorize\n",
      "version\n",
      "void\n",
      "void0\n",
      "vsplit\n",
      "vstack\n",
      "warnings\n",
      "where\n",
      "who\n",
      "zeros\n",
      "zeros_like\n"
     ]
    }
   ],
   "source": [
    "for item in dir(np):\n",
    "    if not item.startswith('__'):\n",
    "        print(item)"
   ]
  },
  {
   "cell_type": "code",
   "execution_count": 35,
   "metadata": {},
   "outputs": [
    {
     "data": {
      "text/plain": [
       "array([1, 3, 5, 7, 9])"
      ]
     },
     "execution_count": 35,
     "metadata": {},
     "output_type": "execute_result"
    }
   ],
   "source": [
    "np.arange(1,11,2)"
   ]
  },
  {
   "cell_type": "code",
   "execution_count": 36,
   "metadata": {},
   "outputs": [
    {
     "data": {
      "text/plain": [
       "array([[0.59671404, 0.80227498, 0.03382778],\n",
       "       [0.07431366, 0.69201371, 0.36421377],\n",
       "       [0.63318794, 0.20184109, 0.73416691]])"
      ]
     },
     "execution_count": 36,
     "metadata": {},
     "output_type": "execute_result"
    }
   ],
   "source": [
    "np.random.random((3,3))"
   ]
  },
  {
   "cell_type": "code",
   "execution_count": 37,
   "metadata": {},
   "outputs": [
    {
     "data": {
      "text/plain": [
       "array([[5.58175768e-01, 7.97874557e-01, 9.20808945e-04],\n",
       "       [6.21978818e-01, 9.89481850e-01, 2.41924258e-01],\n",
       "       [1.61443612e-02, 2.14328830e-01, 7.28507936e-03]])"
      ]
     },
     "execution_count": 37,
     "metadata": {},
     "output_type": "execute_result"
    }
   ],
   "source": [
    "np.random.rand(3,3)"
   ]
  },
  {
   "cell_type": "markdown",
   "metadata": {},
   "source": [
    "### np.zeros / np.eyes"
   ]
  },
  {
   "cell_type": "code",
   "execution_count": 38,
   "metadata": {},
   "outputs": [
    {
     "data": {
      "text/plain": [
       "array([[0., 0., 0., 0., 0., 0., 0., 0., 0.],\n",
       "       [0., 0., 0., 0., 0., 0., 0., 0., 0.],\n",
       "       [0., 0., 0., 0., 0., 0., 0., 0., 0.],\n",
       "       [0., 0., 0., 0., 0., 0., 0., 0., 0.],\n",
       "       [0., 0., 0., 0., 0., 0., 0., 0., 0.],\n",
       "       [0., 0., 0., 0., 0., 0., 0., 0., 0.]])"
      ]
     },
     "execution_count": 38,
     "metadata": {},
     "output_type": "execute_result"
    }
   ],
   "source": [
    "def test4():\n",
    "    retary = np.zeros((6,9))\n",
    "    return retary\n",
    "\n",
    "ary4 = test4()\n",
    "ary4"
   ]
  },
  {
   "cell_type": "code",
   "execution_count": 39,
   "metadata": {},
   "outputs": [
    {
     "data": {
      "text/plain": [
       "array([[1., 1., 1.],\n",
       "       [1., 1., 1.]])"
      ]
     },
     "execution_count": 39,
     "metadata": {},
     "output_type": "execute_result"
    }
   ],
   "source": [
    "np.ones((2,3))"
   ]
  },
  {
   "cell_type": "code",
   "execution_count": 41,
   "metadata": {},
   "outputs": [
    {
     "data": {
      "text/plain": [
       "array([[1., 0., 0.],\n",
       "       [0., 1., 0.],\n",
       "       [0., 0., 1.]])"
      ]
     },
     "execution_count": 41,
     "metadata": {},
     "output_type": "execute_result"
    }
   ],
   "source": [
    "np.eye(3)"
   ]
  },
  {
   "cell_type": "markdown",
   "metadata": {},
   "source": [
    "### ndarray.T"
   ]
  },
  {
   "cell_type": "code",
   "execution_count": 42,
   "metadata": {},
   "outputs": [
    {
     "data": {
      "text/plain": [
       "array([[6, 6, 1, 0],\n",
       "       [0, 0, 8, 1],\n",
       "       [5, 3, 8, 7],\n",
       "       [8, 0, 7, 0]])"
      ]
     },
     "execution_count": 42,
     "metadata": {},
     "output_type": "execute_result"
    }
   ],
   "source": [
    "def test5(A):\n",
    "    retary = A.T\n",
    "    return retary\n",
    "\n",
    "ary = np.array([[6, 0, 5, 8],\n",
    "   [6, 0, 3, 0],\n",
    "   [1, 8, 8, 7],\n",
    "   [0, 1, 7, 0]])\n",
    "ary5 = test5(ary)\n",
    "ary5"
   ]
  },
  {
   "cell_type": "markdown",
   "metadata": {},
   "source": [
    "### ndarray.hsplit"
   ]
  },
  {
   "cell_type": "code",
   "execution_count": 43,
   "metadata": {},
   "outputs": [
    {
     "data": {
      "text/plain": [
       "[array([[7, 6, 8, 7],\n",
       "        [7, 9, 9, 5],\n",
       "        [1, 5, 5, 8],\n",
       "        [3, 8, 3, 9]]), array([[9, 7, 7, 6],\n",
       "        [1, 9, 3, 8],\n",
       "        [6, 4, 5, 6],\n",
       "        [9, 3, 9, 2]]), array([[5, 6, 7, 2],\n",
       "        [7, 1, 1, 9],\n",
       "        [1, 7, 8, 7],\n",
       "        [6, 1, 7, 1]])]"
      ]
     },
     "execution_count": 43,
     "metadata": {},
     "output_type": "execute_result"
    }
   ],
   "source": [
    "def test6(A):\n",
    "    rettpl = np.hsplit(A,3)\n",
    "    return list(rettpl)\n",
    "\n",
    "ary = np.array([[7, 6, 8, 7, 9, 7, 7, 6, 5, 6, 7, 2],\n",
    "   [7, 9, 9, 5, 1, 9, 3, 8, 7, 1, 1, 9],\n",
    "   [1, 5, 5, 8, 6, 4, 5, 6, 1, 7, 8, 7],\n",
    "   [3, 8, 3, 9, 9, 3, 9, 2, 6, 1, 7, 1]])\n",
    "\n",
    "ary6 = test6(ary)\n",
    "ary6"
   ]
  },
  {
   "cell_type": "markdown",
   "metadata": {},
   "source": [
    "### ndaary.vsplit"
   ]
  },
  {
   "cell_type": "code",
   "execution_count": 44,
   "metadata": {},
   "outputs": [
    {
     "data": {
      "text/plain": [
       "[array([[5, 8, 7, 4, 4, 7, 9, 4, 3, 2, 5, 3],\n",
       "        [2, 9, 9, 8, 5, 3, 8, 9, 3, 6, 9, 1]]),\n",
       " array([[8, 4, 9, 8, 8, 6, 2, 6, 3, 5, 9, 7],\n",
       "        [1, 7, 7, 6, 8, 2, 1, 6, 8, 9, 3, 3]])]"
      ]
     },
     "execution_count": 44,
     "metadata": {},
     "output_type": "execute_result"
    }
   ],
   "source": [
    "def test7(A):\n",
    "    return list(np.vsplit(A,2))\n",
    "\n",
    "ary = np.array([[5, 8, 7, 4, 4, 7, 9, 4, 3, 2, 5, 3],\n",
    "   [2, 9, 9, 8, 5, 3, 8, 9, 3, 6, 9, 1],\n",
    "   [8, 4, 9, 8, 8, 6, 2, 6, 3, 5, 9, 7],\n",
    "   [1, 7, 7, 6, 8, 2, 1, 6, 8, 9, 3, 3]])\n",
    "ary7 = test7(ary)\n",
    "ary7"
   ]
  },
  {
   "cell_type": "markdown",
   "metadata": {},
   "source": [
    "### ndarray.hstack"
   ]
  },
  {
   "cell_type": "code",
   "execution_count": 46,
   "metadata": {},
   "outputs": [
    {
     "data": {
      "text/plain": [
       "array([[ 1,  2,  8, 10],\n",
       "       [ 4,  5,  8, 20]])"
      ]
     },
     "execution_count": 46,
     "metadata": {},
     "output_type": "execute_result"
    }
   ],
   "source": [
    "ary_b = np.array([[1,2,8],[4,5,8]])\n",
    "ary_c = np.array([[10],[20]])\n",
    "ary_d = np.concatenate([ary_b,ary_c],axis=1)\n",
    "ary_d"
   ]
  },
  {
   "cell_type": "code",
   "execution_count": null,
   "metadata": {},
   "outputs": [],
   "source": []
  }
 ],
 "metadata": {
  "kernelspec": {
   "display_name": "Python 3",
   "language": "python",
   "name": "python3"
  },
  "language_info": {
   "codemirror_mode": {
    "name": "ipython",
    "version": 3
   },
   "file_extension": ".py",
   "mimetype": "text/x-python",
   "name": "python",
   "nbconvert_exporter": "python",
   "pygments_lexer": "ipython3",
   "version": "3.7.0"
  }
 },
 "nbformat": 4,
 "nbformat_minor": 2
}
